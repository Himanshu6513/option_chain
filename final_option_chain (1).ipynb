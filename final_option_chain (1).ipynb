{
 "cells": [
  {
   "cell_type": "code",
   "execution_count": null,
   "metadata": {},
   "outputs": [],
   "source": [
    "from bs4 import BeautifulSoup\n",
    "from selenium import webdriver\n",
    "from datetime import datetime\n",
    "from apscheduler.schedulers.background import BackgroundScheduler\n",
    "driver=webdriver.Chrome(executable_path=r'chromedriver.exe')\n",
    "driver.get('https://www1.nseindia.com/live_market/dynaContent/live_watch/option_chain/optionKeys.jsp?symbol=RELIANCE')\n",
    "html=driver.page_source\n",
    "driver.close()\n",
    "sel_soup=BeautifulSoup(html,'html.parser')\n",
    "cht2=len(sel_soup.find_all(class_='grybg'))\n",
    "price=[]\n",
    "time=[]\n",
    "final_call={}\n",
    "final_put={}\n",
    "call_ltp={}\n",
    "put_ltp={}\n",
    "for i in range(0,cht2):\n",
    "    final=float(sel_soup.find_all(class_='grybg')[i].find_all('b')[0].get_text())\n",
    "    price.append(final)\n",
    "final_price=price[9:20]\n",
    "for price1 in final_price:\n",
    "    final_call[price1]=[]\n",
    "    final_put[price1]=[]\n",
    "price_ltp=price[9:20]\n",
    "for price1 in price_ltp:\n",
    "    call_ltp[price1]=[]\n",
    "    put_ltp[price1]=[]  "
   ]
  },
  {
   "cell_type": "code",
   "execution_count": null,
   "metadata": {},
   "outputs": [],
   "source": [
    "from apscheduler.schedulers.background import BackgroundScheduler\n",
    "sched = BackgroundScheduler()\n",
    "@sched.scheduled_job('interval', seconds=180)\n",
    "def timed_job():\n",
    "    driver=webdriver.Chrome(executable_path=r'chromedriver.exe')\n",
    "    driver.get('https://www1.nseindia.com/live_market/dynaContent/live_watch/option_chain/optionKeys.jsp?symbol=RELIANCE')\n",
    "    html=driver.page_source\n",
    "    driver.quit()\n",
    "    sel_soup=BeautifulSoup(html,'html.parser')\n",
    "    global time\n",
    "    global final_call\n",
    "    global final_put\n",
    "    global call_ltp\n",
    "    global put_ltp\n",
    "    time.append(datetime.now())\n",
    "    for data in range(14,25):\n",
    "        strike=float(sel_soup.find_all('tr')[data].find_all('td')[11].text.strip())\n",
    "        call=''\n",
    "        put=''\n",
    "        for value in sel_soup.find_all('tr')[data].find_all('td')[1].text.strip().split(','):\n",
    "            call=call+value\n",
    "        for value in sel_soup.find_all('tr')[data].find_all('td')[-2].text.strip().split(','):\n",
    "            put=put+value\n",
    "        call=int(call)\n",
    "        put=int(put)\n",
    "        final_call[strike].append(call)\n",
    "        final_put[strike].append(put)\n",
    "    for data in range(14,25):\n",
    "        strike=float(sel_soup.find_all('tr')[data].find_all('td')[11].text.strip())\n",
    "        call_price=float(sel_soup.find_all('tr')[data].find_all('td')[5].text.strip())\n",
    "        put_price=float(sel_soup.find_all('tr')[data].find_all('td')[-6].text.strip())\n",
    "        call_ltp[strike].append(call_price)\n",
    "        put_ltp[strike].append(put_price)      \n",
    "sched.start()    "
   ]
  },
  {
   "cell_type": "code",
   "execution_count": null,
   "metadata": {},
   "outputs": [],
   "source": [
    "final_price"
   ]
  },
  {
   "cell_type": "code",
   "execution_count": null,
   "metadata": {},
   "outputs": [],
   "source": [
    "#Individual plot LTP for put and call\n",
    "import matplotlib.pyplot as plt\n",
    "import seaborn as sns\n",
    "import pandas as pd\n",
    "sns.set_style('whitegrid')\n",
    "%matplotlib inline\n",
    "import plotly\n",
    "import cufflinks as cf\n",
    "cf.go_offline()\n",
    "put=[]\n",
    "call=[]\n",
    "option_time=time[3:]\n",
    "value=1950.0\n",
    "call_length=len(call_ltp[value])\n",
    "put_length=len(put_ltp[value])\n",
    "for i in range(1,call_length):\n",
    "    y=((call_ltp[value][i]-call_ltp[value][0])/call_ltp[value][0])\n",
    "    w=(y*100)\n",
    "    call.append(w)\n",
    "for i in range(1,put_length):\n",
    "    y=((put_ltp[value][i]-put_ltp[value][0])/put_ltp[value][0])\n",
    "    w=(y*100)\n",
    "    put.append(w)\n",
    "df = pd.DataFrame(list(zip(option_time,call,put)),columns =['Time', 'Call','Put'])\n",
    "df.set_index(['Time'],inplace =True)\n",
    "df.iplot()"
   ]
  },
  {
   "cell_type": "code",
   "execution_count": null,
   "metadata": {},
   "outputs": [],
   "source": [
    "#Individual\n",
    "import matplotlib.pyplot as plt\n",
    "import seaborn as sns\n",
    "import pandas as pd\n",
    "sns.set_style('whitegrid')\n",
    "%matplotlib inline\n",
    "import plotly\n",
    "import cufflinks as cf\n",
    "cf.go_offline()\n",
    "put=[]\n",
    "call=[]\n",
    "option_time=time[3:]\n",
    "value=1950.0\n",
    "call_length=len(final_call[value])\n",
    "put_length=len(final_put[value])\n",
    "for i in range(1,call_length):\n",
    "    y=((final_call[value][i]-final_call[value][0])/final_call[value][0])\n",
    "    w=(y*100)\n",
    "    call.append(w)\n",
    "for i in range(1,put_length):\n",
    "    y=((final_put[value][i]-final_put[value][0])/final_put[value][0])\n",
    "    w=(y*100)\n",
    "    put.append(w)\n",
    "df = pd.DataFrame(list(zip(option_time,call,put)),columns =['Time', 'Call','Put'])\n",
    "df.set_index(['Time'],inplace =True)\n",
    "df.iplot()"
   ]
  },
  {
   "cell_type": "code",
   "execution_count": null,
   "metadata": {
    "scrolled": false
   },
   "outputs": [],
   "source": [
    "#Overall\n",
    "import matplotlib.pyplot as plt\n",
    "import seaborn as sns\n",
    "import pandas as pd\n",
    "sns.set_style('whitegrid')\n",
    "%matplotlib inline\n",
    "import plotly\n",
    "import cufflinks as cf\n",
    "cf.go_offline()\n",
    "put1=[]\n",
    "call1=[]\n",
    "price_value=[]\n",
    "for key in final_call.keys():\n",
    "    price_value.append(key)\n",
    "    put1.append(((final_put[key][-1]-final_put[key][0])/final_put[key][0])*100)\n",
    "    call1.append(((final_call[key][-1]-final_call[key][0])/final_call[key][0])*100)\n",
    "frame = pd.DataFrame(list(zip(price_value,call1,put1)),columns =['Price', 'Call','Put'])\n",
    "frame.set_index(['Price'],inplace =True)\n",
    "frame.iplot()"
   ]
  },
  {
   "cell_type": "code",
   "execution_count": null,
   "metadata": {},
   "outputs": [],
   "source": [
    "sched.shutdown()"
   ]
  },
  {
   "cell_type": "code",
   "execution_count": null,
   "metadata": {},
   "outputs": [],
   "source": []
  },
  {
   "cell_type": "code",
   "execution_count": null,
   "metadata": {},
   "outputs": [],
   "source": []
  }
 ],
 "metadata": {
  "kernelspec": {
   "display_name": "Python 3",
   "language": "python",
   "name": "python3"
  },
  "language_info": {
   "codemirror_mode": {
    "name": "ipython",
    "version": 3
   },
   "file_extension": ".py",
   "mimetype": "text/x-python",
   "name": "python",
   "nbconvert_exporter": "python",
   "pygments_lexer": "ipython3",
   "version": "3.8.3"
  }
 },
 "nbformat": 4,
 "nbformat_minor": 2
}
