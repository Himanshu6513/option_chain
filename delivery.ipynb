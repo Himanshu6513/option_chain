{
 "cells": [
  {
   "cell_type": "code",
   "execution_count": null,
   "metadata": {},
   "outputs": [],
   "source": [
    "from apscheduler.schedulers.background import BackgroundScheduler\n",
    "from selenium import webdriver\n",
    "from datetime import datetime\n",
    "from bs4 import BeautifulSoup\n",
    "delivery=[]\n",
    "var=[]\n",
    "time=[]\n",
    "sched = BackgroundScheduler()\n",
    "@sched.scheduled_job('interval', seconds=450)\n",
    "def timed_job():\n",
    "    driver1=webdriver.Chrome(executable_path=r'C:\\\\Users\\\\dell\\\\Desktop\\\\Unlock\\\\chromedriver.exe')\n",
    "    driver1.get('https://www1.nseindia.com/live_market/dynaContent/live_watch/get_quote/GetQuote.jsp?symbol=RELIANCE')\n",
    "    html1=driver1.page_source\n",
    "    driver1.quit()\n",
    "    sel_soup1=BeautifulSoup(html1,'html.parser')\n",
    "    global delivery\n",
    "    global var\n",
    "    global time\n",
    "    time.append(datetime.now())\n",
    "    receive=float(sel_soup1.find_all(class_='number')[46].text.strip().split()[0])\n",
    "    svar=float(sel_soup1.find_all(class_='number')[47].text.strip().split()[0])\n",
    "    delivery.append(receive)\n",
    "    var.append(svar)\n",
    "sched.start()    "
   ]
  },
  {
   "cell_type": "code",
   "execution_count": null,
   "metadata": {},
   "outputs": [],
   "source": [
    "import matplotlib.pyplot as plt\n",
    "import pandas as pd\n",
    "import seaborn as sns\n",
    "sns.set_style('whitegrid')\n",
    "%matplotlib inline\n",
    "import plotly\n",
    "import cufflinks as cf\n",
    "cf.go_offline()\n",
    "df = pd.DataFrame(list(zip(time,delivery)),columns =['Time', 'Delivery'])\n",
    "df.set_index(['Time'],inplace =True)\n",
    "df.iplot()"
   ]
  },
  {
   "cell_type": "code",
   "execution_count": null,
   "metadata": {},
   "outputs": [],
   "source": [
    "sched.shutdown()"
   ]
  },
  {
   "cell_type": "code",
   "execution_count": null,
   "metadata": {
    "scrolled": true
   },
   "outputs": [],
   "source": [
    "delivery"
   ]
  },
  {
   "cell_type": "code",
   "execution_count": null,
   "metadata": {},
   "outputs": [],
   "source": []
  }
 ],
 "metadata": {
  "kernelspec": {
   "display_name": "Python 3",
   "language": "python",
   "name": "python3"
  },
  "language_info": {
   "codemirror_mode": {
    "name": "ipython",
    "version": 3
   },
   "file_extension": ".py",
   "mimetype": "text/x-python",
   "name": "python",
   "nbconvert_exporter": "python",
   "pygments_lexer": "ipython3",
   "version": "3.8.3"
  }
 },
 "nbformat": 4,
 "nbformat_minor": 4
}
